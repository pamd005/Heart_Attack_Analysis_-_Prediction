{
  "metadata": {
    "kernelspec": {
      "language": "python",
      "display_name": "Python 3",
      "name": "python3"
    },
    "language_info": {
      "pygments_lexer": "ipython3",
      "nbconvert_exporter": "python",
      "version": "3.6.4",
      "file_extension": ".py",
      "codemirror_mode": {
        "name": "ipython",
        "version": 3
      },
      "name": "python",
      "mimetype": "text/x-python"
    },
    "colab": {
      "name": "Heart Attack Analysis & Prediction",
      "provenance": []
    }
  },
  "nbformat_minor": 0,
  "nbformat": 4,
  "cells": [
    {
      "cell_type": "markdown",
      "source": [
        "# Heart Attack Analysis & Prediction"
      ],
      "metadata": {
        "id": "-B1MkrKYEd17"
      }
    },
    {
      "cell_type": "markdown",
      "source": [
        "## What will you learn from this project?\n",
        "* EDA\n",
        "* Missing Value Analysis\n",
        "* Categoric and Numeric Features\n",
        "* Standardization\n",
        "* Box - Swarm - Cat - Correlation Plot Analysis\n",
        "* Outlier Detection\n",
        "* Modelling and Tuning Machine Learning Model"
      ],
      "metadata": {
        "id": "PUvtFxwxEd19"
      }
    },
    {
      "cell_type": "markdown",
      "source": [
        "## Introduction\n",
        "* A heart attack, also called a myocardial infarction, happens when a part of the heart muscle doesn't get enough blood.\n",
        "* The more time that passes without treatment to restore blood flow, the greater the damage to the heart muscle.\n",
        "* Coronary artery disease (CAD) is the main cause of heart attack.\n",
        "\n",
        "![hear.JPG](attachment:50c80e12-790a-41a9-8afa-1c574e2f8721.JPG)"
      ],
      "metadata": {
        "id": "xrsxVQakEd19"
      }
    },
    {
      "cell_type": "markdown",
      "source": [
        "## Analysis Content\n",
        "1. [Python Libraries](#1)\n",
        "1. [Data Content](#2)\n",
        "1. [Read and Analyse Data](#3)\n",
        "1. [Missing Value Analysis](#4)\n",
        "1. [Unique Value Analysis](#5)\n",
        "1. [Categorical Feature Analysis](#6)\n",
        "1. [Numeric Feature Analysis](#7)\n",
        "1. [Standardization](#8)\n",
        "1. [Box Plot Analysis](#9)\n",
        "1. [Swarm Plot Analysis](#10)\n",
        "1. [Cat Plot Analysis](#11)\n",
        "1. [Correlation Analysis](#12)\n",
        "1. [Outlier Detection](#13)\n",
        "1. [Modelling](#14)\n",
        "    1. Encoding Categorical Columns\n",
        "    1. Scaling\n",
        "    1. Train/Test Split\n",
        "    1. Logistic Regression\n",
        "    1. Logistic Regression Hyperparameter Tuning\n",
        "1. [Conclusion](#15)"
      ],
      "metadata": {
        "id": "hXfaCgDZEd1-"
      }
    },
    {
      "cell_type": "markdown",
      "source": [
        "<a id=\"1\"></a>\n",
        "## Python Libraries\n",
        "* In this section, we import used libraries during this kernel."
      ],
      "metadata": {
        "id": "k7x__LZbEd1-"
      }
    },
    {
      "cell_type": "code",
      "source": [
        "# This Python 3 environment comes with many helpful analytics libraries installed\n",
        "# It is defined by the kaggle/python Docker image: https://github.com/kaggle/docker-python\n",
        "# For example, here's several helpful packages to load\n",
        "\n",
        "import numpy as np # linear algebra\n",
        "import pandas as pd # data processing, CSV file I/O (e.g. pd.read_csv)\n",
        "import matplotlib.pyplot as plt\n",
        "import seaborn as sns\n",
        "\n",
        "# Input data files are available in the read-only \"../input/\" directory\n",
        "# For example, running this (by clicking run or pressing Shift+Enter) will list all files under the input directory\n",
        "\n",
        "import os\n",
        "for dirname, _, filenames in os.walk('/kaggle/input'):\n",
        "    for filename in filenames:\n",
        "        print(os.path.join(dirname, filename))\n",
        "\n",
        "# You can write up to 20GB to the current directory (/kaggle/working/) that gets preserved as output when you create a version using \"Save & Run All\"\n",
        "# You can also write temporary files to /kaggle/temp/, but they won't be saved outside of the current session\n",
        "\n",
        "from sklearn.linear_model import LogisticRegression\n",
        "from sklearn.preprocessing import StandardScaler\n",
        "from sklearn.model_selection import train_test_split, GridSearchCV\n",
        "from sklearn.metrics import accuracy_score, roc_curve\n",
        "\n",
        "import warnings\n",
        "warnings.filterwarnings(\"ignore\")"
      ],
      "metadata": {
        "_uuid": "8f2839f25d086af736a60e9eeb907d3b93b6e0e5",
        "_cell_guid": "b1076dfc-b9ad-4769-8c92-a6c4dae69d19",
        "execution": {
          "iopub.status.busy": "2021-07-13T19:45:01.109274Z",
          "iopub.execute_input": "2021-07-13T19:45:01.109718Z",
          "iopub.status.idle": "2021-07-13T19:45:01.629436Z",
          "shell.execute_reply.started": "2021-07-13T19:45:01.109618Z",
          "shell.execute_reply": "2021-07-13T19:45:01.628413Z"
        },
        "trusted": true,
        "id": "_Zn-BGeKEd1_"
      },
      "execution_count": 1,
      "outputs": []
    },
    {
      "cell_type": "markdown",
      "source": [
        "<a id=\"2\"></a>\n",
        "## Data Content\n",
        "* **Age:** Age of the patient\n",
        "* **Sex:** Sex of the patient\n",
        "* **exang:** exercise induced angina (1 = yes; 0 = no)\n",
        "* **ca:** number of major vessels (0-3)\n",
        "* **cp:** Chest Pain type chest pain type\n",
        "    * Value 1: typical angina\n",
        "    * Value 2: atypical angina\n",
        "    * Value 3: non-anginal pain\n",
        "    * Value 4: asymptomatic\n",
        "* **trtbps:** resting blood pressure (in mm Hg)\n",
        "* **chol:** cholestoral in mg/dl fetched via BMI sensor\n",
        "* **fbs:** (fasting blood sugar > 120 mg/dl) (1 = true; 0 = false)\n",
        "* **rest_ecg:** resting electrocardiographic results\n",
        "    * Value 0: normal\n",
        "    * Value 1: having ST-T wave abnormality (T wave inversions and/or ST elevation or depression of > 0.05 mV)\n",
        "    * Value 2: showing probable or definite left ventricular hypertrophy by Estes' criteria\n",
        "* **thalach:** maximum heart rate achieved\n",
        "* **target:** 0= less chance of heart attack 1= more chance of heart attack"
      ],
      "metadata": {
        "id": "TR9bIzCZEd1_"
      }
    },
    {
      "cell_type": "markdown",
      "source": [
        "<a id=\"3\"></a>\n",
        "## Read and Analyse Data\n",
        "* In this section, we read heart.csv"
      ],
      "metadata": {
        "id": "xQ145HCFEd2A"
      }
    },
    {
      "cell_type": "code",
      "source": [
        "# read data\n",
        "df = pd.read_csv(\"/kaggle/input/heart-attack-analysis-prediction-dataset/heart.csv\")"
      ],
      "metadata": {
        "execution": {
          "iopub.status.busy": "2021-07-13T19:45:01.631969Z",
          "iopub.execute_input": "2021-07-13T19:45:01.632534Z",
          "iopub.status.idle": "2021-07-13T19:45:01.650869Z",
          "shell.execute_reply.started": "2021-07-13T19:45:01.632486Z",
          "shell.execute_reply": "2021-07-13T19:45:01.64984Z"
        },
        "trusted": true,
        "id": "-QVvtPUGEd2A",
        "outputId": "8a8bdd14-4f21-47f0-ac9c-e4c8649d235d",
        "colab": {
          "base_uri": "https://localhost:8080/",
          "height": 315
        }
      },
      "execution_count": 2,
      "outputs": [
        {
          "output_type": "error",
          "ename": "FileNotFoundError",
          "evalue": "[Errno 2] No such file or directory: '/kaggle/input/heart-attack-analysis-prediction-dataset/heart.csv'",
          "traceback": [
            "\u001b[0;31m---------------------------------------------------------------------------\u001b[0m",
            "\u001b[0;31mFileNotFoundError\u001b[0m                         Traceback (most recent call last)",
            "\u001b[0;32m<ipython-input-2-0d87b1c66c51>\u001b[0m in \u001b[0;36m<cell line: 0>\u001b[0;34m()\u001b[0m\n\u001b[1;32m      1\u001b[0m \u001b[0;31m# read data\u001b[0m\u001b[0;34m\u001b[0m\u001b[0;34m\u001b[0m\u001b[0m\n\u001b[0;32m----> 2\u001b[0;31m \u001b[0mdf\u001b[0m \u001b[0;34m=\u001b[0m \u001b[0mpd\u001b[0m\u001b[0;34m.\u001b[0m\u001b[0mread_csv\u001b[0m\u001b[0;34m(\u001b[0m\u001b[0;34m\"/kaggle/input/heart-attack-analysis-prediction-dataset/heart.csv\"\u001b[0m\u001b[0;34m)\u001b[0m\u001b[0;34m\u001b[0m\u001b[0;34m\u001b[0m\u001b[0m\n\u001b[0m",
            "\u001b[0;32m/usr/local/lib/python3.11/dist-packages/pandas/io/parsers/readers.py\u001b[0m in \u001b[0;36mread_csv\u001b[0;34m(filepath_or_buffer, sep, delimiter, header, names, index_col, usecols, dtype, engine, converters, true_values, false_values, skipinitialspace, skiprows, skipfooter, nrows, na_values, keep_default_na, na_filter, verbose, skip_blank_lines, parse_dates, infer_datetime_format, keep_date_col, date_parser, date_format, dayfirst, cache_dates, iterator, chunksize, compression, thousands, decimal, lineterminator, quotechar, quoting, doublequote, escapechar, comment, encoding, encoding_errors, dialect, on_bad_lines, delim_whitespace, low_memory, memory_map, float_precision, storage_options, dtype_backend)\u001b[0m\n\u001b[1;32m   1024\u001b[0m     \u001b[0mkwds\u001b[0m\u001b[0;34m.\u001b[0m\u001b[0mupdate\u001b[0m\u001b[0;34m(\u001b[0m\u001b[0mkwds_defaults\u001b[0m\u001b[0;34m)\u001b[0m\u001b[0;34m\u001b[0m\u001b[0;34m\u001b[0m\u001b[0m\n\u001b[1;32m   1025\u001b[0m \u001b[0;34m\u001b[0m\u001b[0m\n\u001b[0;32m-> 1026\u001b[0;31m     \u001b[0;32mreturn\u001b[0m \u001b[0m_read\u001b[0m\u001b[0;34m(\u001b[0m\u001b[0mfilepath_or_buffer\u001b[0m\u001b[0;34m,\u001b[0m \u001b[0mkwds\u001b[0m\u001b[0;34m)\u001b[0m\u001b[0;34m\u001b[0m\u001b[0;34m\u001b[0m\u001b[0m\n\u001b[0m\u001b[1;32m   1027\u001b[0m \u001b[0;34m\u001b[0m\u001b[0m\n\u001b[1;32m   1028\u001b[0m \u001b[0;34m\u001b[0m\u001b[0m\n",
            "\u001b[0;32m/usr/local/lib/python3.11/dist-packages/pandas/io/parsers/readers.py\u001b[0m in \u001b[0;36m_read\u001b[0;34m(filepath_or_buffer, kwds)\u001b[0m\n\u001b[1;32m    618\u001b[0m \u001b[0;34m\u001b[0m\u001b[0m\n\u001b[1;32m    619\u001b[0m     \u001b[0;31m# Create the parser.\u001b[0m\u001b[0;34m\u001b[0m\u001b[0;34m\u001b[0m\u001b[0m\n\u001b[0;32m--> 620\u001b[0;31m     \u001b[0mparser\u001b[0m \u001b[0;34m=\u001b[0m \u001b[0mTextFileReader\u001b[0m\u001b[0;34m(\u001b[0m\u001b[0mfilepath_or_buffer\u001b[0m\u001b[0;34m,\u001b[0m \u001b[0;34m**\u001b[0m\u001b[0mkwds\u001b[0m\u001b[0;34m)\u001b[0m\u001b[0;34m\u001b[0m\u001b[0;34m\u001b[0m\u001b[0m\n\u001b[0m\u001b[1;32m    621\u001b[0m \u001b[0;34m\u001b[0m\u001b[0m\n\u001b[1;32m    622\u001b[0m     \u001b[0;32mif\u001b[0m \u001b[0mchunksize\u001b[0m \u001b[0;32mor\u001b[0m \u001b[0miterator\u001b[0m\u001b[0;34m:\u001b[0m\u001b[0;34m\u001b[0m\u001b[0;34m\u001b[0m\u001b[0m\n",
            "\u001b[0;32m/usr/local/lib/python3.11/dist-packages/pandas/io/parsers/readers.py\u001b[0m in \u001b[0;36m__init__\u001b[0;34m(self, f, engine, **kwds)\u001b[0m\n\u001b[1;32m   1618\u001b[0m \u001b[0;34m\u001b[0m\u001b[0m\n\u001b[1;32m   1619\u001b[0m         \u001b[0mself\u001b[0m\u001b[0;34m.\u001b[0m\u001b[0mhandles\u001b[0m\u001b[0;34m:\u001b[0m \u001b[0mIOHandles\u001b[0m \u001b[0;34m|\u001b[0m \u001b[0;32mNone\u001b[0m \u001b[0;34m=\u001b[0m \u001b[0;32mNone\u001b[0m\u001b[0;34m\u001b[0m\u001b[0;34m\u001b[0m\u001b[0m\n\u001b[0;32m-> 1620\u001b[0;31m         \u001b[0mself\u001b[0m\u001b[0;34m.\u001b[0m\u001b[0m_engine\u001b[0m \u001b[0;34m=\u001b[0m \u001b[0mself\u001b[0m\u001b[0;34m.\u001b[0m\u001b[0m_make_engine\u001b[0m\u001b[0;34m(\u001b[0m\u001b[0mf\u001b[0m\u001b[0;34m,\u001b[0m \u001b[0mself\u001b[0m\u001b[0;34m.\u001b[0m\u001b[0mengine\u001b[0m\u001b[0;34m)\u001b[0m\u001b[0;34m\u001b[0m\u001b[0;34m\u001b[0m\u001b[0m\n\u001b[0m\u001b[1;32m   1621\u001b[0m \u001b[0;34m\u001b[0m\u001b[0m\n\u001b[1;32m   1622\u001b[0m     \u001b[0;32mdef\u001b[0m \u001b[0mclose\u001b[0m\u001b[0;34m(\u001b[0m\u001b[0mself\u001b[0m\u001b[0;34m)\u001b[0m \u001b[0;34m->\u001b[0m \u001b[0;32mNone\u001b[0m\u001b[0;34m:\u001b[0m\u001b[0;34m\u001b[0m\u001b[0;34m\u001b[0m\u001b[0m\n",
            "\u001b[0;32m/usr/local/lib/python3.11/dist-packages/pandas/io/parsers/readers.py\u001b[0m in \u001b[0;36m_make_engine\u001b[0;34m(self, f, engine)\u001b[0m\n\u001b[1;32m   1878\u001b[0m                 \u001b[0;32mif\u001b[0m \u001b[0;34m\"b\"\u001b[0m \u001b[0;32mnot\u001b[0m \u001b[0;32min\u001b[0m \u001b[0mmode\u001b[0m\u001b[0;34m:\u001b[0m\u001b[0;34m\u001b[0m\u001b[0;34m\u001b[0m\u001b[0m\n\u001b[1;32m   1879\u001b[0m                     \u001b[0mmode\u001b[0m \u001b[0;34m+=\u001b[0m \u001b[0;34m\"b\"\u001b[0m\u001b[0;34m\u001b[0m\u001b[0;34m\u001b[0m\u001b[0m\n\u001b[0;32m-> 1880\u001b[0;31m             self.handles = get_handle(\n\u001b[0m\u001b[1;32m   1881\u001b[0m                 \u001b[0mf\u001b[0m\u001b[0;34m,\u001b[0m\u001b[0;34m\u001b[0m\u001b[0;34m\u001b[0m\u001b[0m\n\u001b[1;32m   1882\u001b[0m                 \u001b[0mmode\u001b[0m\u001b[0;34m,\u001b[0m\u001b[0;34m\u001b[0m\u001b[0;34m\u001b[0m\u001b[0m\n",
            "\u001b[0;32m/usr/local/lib/python3.11/dist-packages/pandas/io/common.py\u001b[0m in \u001b[0;36mget_handle\u001b[0;34m(path_or_buf, mode, encoding, compression, memory_map, is_text, errors, storage_options)\u001b[0m\n\u001b[1;32m    871\u001b[0m         \u001b[0;32mif\u001b[0m \u001b[0mioargs\u001b[0m\u001b[0;34m.\u001b[0m\u001b[0mencoding\u001b[0m \u001b[0;32mand\u001b[0m \u001b[0;34m\"b\"\u001b[0m \u001b[0;32mnot\u001b[0m \u001b[0;32min\u001b[0m \u001b[0mioargs\u001b[0m\u001b[0;34m.\u001b[0m\u001b[0mmode\u001b[0m\u001b[0;34m:\u001b[0m\u001b[0;34m\u001b[0m\u001b[0;34m\u001b[0m\u001b[0m\n\u001b[1;32m    872\u001b[0m             \u001b[0;31m# Encoding\u001b[0m\u001b[0;34m\u001b[0m\u001b[0;34m\u001b[0m\u001b[0m\n\u001b[0;32m--> 873\u001b[0;31m             handle = open(\n\u001b[0m\u001b[1;32m    874\u001b[0m                 \u001b[0mhandle\u001b[0m\u001b[0;34m,\u001b[0m\u001b[0;34m\u001b[0m\u001b[0;34m\u001b[0m\u001b[0m\n\u001b[1;32m    875\u001b[0m                 \u001b[0mioargs\u001b[0m\u001b[0;34m.\u001b[0m\u001b[0mmode\u001b[0m\u001b[0;34m,\u001b[0m\u001b[0;34m\u001b[0m\u001b[0;34m\u001b[0m\u001b[0m\n",
            "\u001b[0;31mFileNotFoundError\u001b[0m: [Errno 2] No such file or directory: '/kaggle/input/heart-attack-analysis-prediction-dataset/heart.csv'"
          ]
        }
      ]
    },
    {
      "cell_type": "code",
      "source": [
        "df.head()"
      ],
      "metadata": {
        "execution": {
          "iopub.status.busy": "2021-07-13T19:45:01.652844Z",
          "iopub.execute_input": "2021-07-13T19:45:01.653272Z",
          "iopub.status.idle": "2021-07-13T19:45:01.676787Z",
          "shell.execute_reply.started": "2021-07-13T19:45:01.653239Z",
          "shell.execute_reply": "2021-07-13T19:45:01.675712Z"
        },
        "trusted": true,
        "id": "QIBC5xeZEd2B"
      },
      "execution_count": null,
      "outputs": []
    },
    {
      "cell_type": "code",
      "source": [
        "# describe basic statistics of data\n",
        "df.describe()"
      ],
      "metadata": {
        "execution": {
          "iopub.status.busy": "2021-07-13T19:45:01.678098Z",
          "iopub.execute_input": "2021-07-13T19:45:01.678374Z",
          "iopub.status.idle": "2021-07-13T19:45:01.731389Z",
          "shell.execute_reply.started": "2021-07-13T19:45:01.678346Z",
          "shell.execute_reply": "2021-07-13T19:45:01.730329Z"
        },
        "trusted": true,
        "id": "zI4WmTs2Ed2B"
      },
      "execution_count": null,
      "outputs": []
    },
    {
      "cell_type": "code",
      "source": [
        "# information about data frame\n",
        "df.info()"
      ],
      "metadata": {
        "execution": {
          "iopub.status.busy": "2021-07-13T19:45:01.732688Z",
          "iopub.execute_input": "2021-07-13T19:45:01.733009Z",
          "iopub.status.idle": "2021-07-13T19:45:01.749459Z",
          "shell.execute_reply.started": "2021-07-13T19:45:01.732979Z",
          "shell.execute_reply": "2021-07-13T19:45:01.748004Z"
        },
        "trusted": true,
        "id": "KnPeIAJBEd2C"
      },
      "execution_count": null,
      "outputs": []
    },
    {
      "cell_type": "markdown",
      "source": [
        "<a id=\"4\"></a>\n",
        "## Missing Value Analysis"
      ],
      "metadata": {
        "id": "bONt3YBBEd2C"
      }
    },
    {
      "cell_type": "code",
      "source": [
        "# missing value\n",
        "df.isnull().sum()"
      ],
      "metadata": {
        "execution": {
          "iopub.status.busy": "2021-07-13T19:45:01.750846Z",
          "iopub.execute_input": "2021-07-13T19:45:01.751235Z",
          "iopub.status.idle": "2021-07-13T19:45:01.769072Z",
          "shell.execute_reply.started": "2021-07-13T19:45:01.751198Z",
          "shell.execute_reply": "2021-07-13T19:45:01.767977Z"
        },
        "trusted": true,
        "id": "YzcXmFjiEd2C"
      },
      "execution_count": null,
      "outputs": []
    },
    {
      "cell_type": "markdown",
      "source": [
        "<a id=\"5\"></a>\n",
        "## Unique Value Analysis"
      ],
      "metadata": {
        "id": "e80mztvgEd2C"
      }
    },
    {
      "cell_type": "code",
      "source": [
        "for i in list(df.columns):\n",
        "    print(\"{} -- {}\".format(i, df[i].value_counts().shape[0]))"
      ],
      "metadata": {
        "execution": {
          "iopub.status.busy": "2021-07-13T19:45:01.770986Z",
          "iopub.execute_input": "2021-07-13T19:45:01.771755Z",
          "iopub.status.idle": "2021-07-13T19:45:01.796915Z",
          "shell.execute_reply.started": "2021-07-13T19:45:01.771701Z",
          "shell.execute_reply": "2021-07-13T19:45:01.795904Z"
        },
        "trusted": true,
        "id": "3GYM1L4NEd2D"
      },
      "execution_count": null,
      "outputs": []
    },
    {
      "cell_type": "markdown",
      "source": [
        "<a id=\"6\"></a>\n",
        "## Categorical Feature Analysis"
      ],
      "metadata": {
        "id": "0kTAD4c-Ed2D"
      }
    },
    {
      "cell_type": "code",
      "source": [
        "categorical_list = [\"sex\", \"cp\",\"fbs\",\"restecg\",\"exng\",\"slp\",\"caa\",\"thall\",\"output\"]"
      ],
      "metadata": {
        "execution": {
          "iopub.status.busy": "2021-07-13T19:45:01.7998Z",
          "iopub.execute_input": "2021-07-13T19:45:01.80015Z",
          "iopub.status.idle": "2021-07-13T19:45:01.804313Z",
          "shell.execute_reply.started": "2021-07-13T19:45:01.800118Z",
          "shell.execute_reply": "2021-07-13T19:45:01.803543Z"
        },
        "trusted": true,
        "id": "cApQE69CEd2D"
      },
      "execution_count": null,
      "outputs": []
    },
    {
      "cell_type": "code",
      "source": [
        "df_categoric = df.loc[:, categorical_list]\n",
        "for i in categorical_list:\n",
        "    plt.figure()\n",
        "    sns.countplot(x = i, data = df_categoric, hue = \"output\")\n",
        "    plt.title(i)"
      ],
      "metadata": {
        "execution": {
          "iopub.status.busy": "2021-07-13T19:45:01.806338Z",
          "iopub.execute_input": "2021-07-13T19:45:01.806864Z",
          "iopub.status.idle": "2021-07-13T19:45:03.55581Z",
          "shell.execute_reply.started": "2021-07-13T19:45:01.806786Z",
          "shell.execute_reply": "2021-07-13T19:45:03.55477Z"
        },
        "trusted": true,
        "id": "FGg9oswSEd2D"
      },
      "execution_count": null,
      "outputs": []
    },
    {
      "cell_type": "markdown",
      "source": [
        "<a id=\"7\"></a>\n",
        "## Numeric Feature Analysis\n",
        "* Bivariate data analysis with scatter plot"
      ],
      "metadata": {
        "id": "9xam0bOmEd2E"
      }
    },
    {
      "cell_type": "code",
      "source": [
        "numeric_list = [\"age\", \"trtbps\",\"chol\",\"thalachh\",\"oldpeak\",\"output\"]"
      ],
      "metadata": {
        "execution": {
          "iopub.status.busy": "2021-07-13T19:45:03.55724Z",
          "iopub.execute_input": "2021-07-13T19:45:03.557538Z",
          "iopub.status.idle": "2021-07-13T19:45:03.561475Z",
          "shell.execute_reply.started": "2021-07-13T19:45:03.55751Z",
          "shell.execute_reply": "2021-07-13T19:45:03.560592Z"
        },
        "trusted": true,
        "id": "PD7u8nf8Ed2E"
      },
      "execution_count": null,
      "outputs": []
    },
    {
      "cell_type": "code",
      "source": [
        "df_numeric = df.loc[:, numeric_list]\n",
        "sns.pairplot(df_numeric, hue = \"output\", diag_kind = \"kde\")\n",
        "plt.show()"
      ],
      "metadata": {
        "execution": {
          "iopub.status.busy": "2021-07-13T19:45:03.56274Z",
          "iopub.execute_input": "2021-07-13T19:45:03.563075Z",
          "iopub.status.idle": "2021-07-13T19:45:10.068195Z",
          "shell.execute_reply.started": "2021-07-13T19:45:03.563045Z",
          "shell.execute_reply": "2021-07-13T19:45:10.067093Z"
        },
        "trusted": true,
        "id": "guiWwsuYEd2E"
      },
      "execution_count": null,
      "outputs": []
    },
    {
      "cell_type": "markdown",
      "source": [
        "<a id=\"8\"></a>\n",
        "## Standardization"
      ],
      "metadata": {
        "id": "Il5yxD_ZEd2E"
      }
    },
    {
      "cell_type": "code",
      "source": [
        "scaler = StandardScaler()\n",
        "scaler"
      ],
      "metadata": {
        "execution": {
          "iopub.status.busy": "2021-07-13T19:45:10.069619Z",
          "iopub.execute_input": "2021-07-13T19:45:10.070026Z",
          "iopub.status.idle": "2021-07-13T19:45:10.077793Z",
          "shell.execute_reply.started": "2021-07-13T19:45:10.069988Z",
          "shell.execute_reply": "2021-07-13T19:45:10.076758Z"
        },
        "trusted": true,
        "id": "STG9gb3rEd2F"
      },
      "execution_count": null,
      "outputs": []
    },
    {
      "cell_type": "code",
      "source": [
        "scaled_array = scaler.fit_transform(df[numeric_list[:-1]])"
      ],
      "metadata": {
        "execution": {
          "iopub.status.busy": "2021-07-13T19:45:10.079271Z",
          "iopub.execute_input": "2021-07-13T19:45:10.079647Z",
          "iopub.status.idle": "2021-07-13T19:45:10.09614Z",
          "shell.execute_reply.started": "2021-07-13T19:45:10.07961Z",
          "shell.execute_reply": "2021-07-13T19:45:10.095152Z"
        },
        "trusted": true,
        "id": "alFNCfWcEd2F"
      },
      "execution_count": null,
      "outputs": []
    },
    {
      "cell_type": "code",
      "source": [
        "scaled_array"
      ],
      "metadata": {
        "execution": {
          "iopub.status.busy": "2021-07-13T19:45:10.097494Z",
          "iopub.execute_input": "2021-07-13T19:45:10.097793Z",
          "iopub.status.idle": "2021-07-13T19:45:10.104723Z",
          "shell.execute_reply.started": "2021-07-13T19:45:10.097764Z",
          "shell.execute_reply": "2021-07-13T19:45:10.103563Z"
        },
        "trusted": true,
        "id": "pP-t3mNfEd2F"
      },
      "execution_count": null,
      "outputs": []
    },
    {
      "cell_type": "code",
      "source": [
        "# pd.DataFrame(scaled_array).describe()"
      ],
      "metadata": {
        "execution": {
          "iopub.status.busy": "2021-07-13T19:45:10.10629Z",
          "iopub.execute_input": "2021-07-13T19:45:10.106723Z",
          "iopub.status.idle": "2021-07-13T19:45:10.115484Z",
          "shell.execute_reply.started": "2021-07-13T19:45:10.106678Z",
          "shell.execute_reply": "2021-07-13T19:45:10.114606Z"
        },
        "trusted": true,
        "id": "HZn7fn1wEd2F"
      },
      "execution_count": null,
      "outputs": []
    },
    {
      "cell_type": "markdown",
      "source": [
        "<a id=\"9\"></a>\n",
        "## Box Plot Analysis"
      ],
      "metadata": {
        "id": "3wCH0rsFEd2F"
      }
    },
    {
      "cell_type": "code",
      "source": [
        "df_dummy = pd.DataFrame(scaled_array, columns = numeric_list[:-1])\n",
        "df_dummy.head()"
      ],
      "metadata": {
        "execution": {
          "iopub.status.busy": "2021-07-13T19:45:10.116774Z",
          "iopub.execute_input": "2021-07-13T19:45:10.117081Z",
          "iopub.status.idle": "2021-07-13T19:45:10.136437Z",
          "shell.execute_reply.started": "2021-07-13T19:45:10.117051Z",
          "shell.execute_reply": "2021-07-13T19:45:10.135733Z"
        },
        "trusted": true,
        "id": "Vy6aL7uUEd2G"
      },
      "execution_count": null,
      "outputs": []
    },
    {
      "cell_type": "code",
      "source": [
        "df_dummy = pd.concat([df_dummy, df.loc[:, \"output\"]], axis = 1)\n",
        "df_dummy.head()"
      ],
      "metadata": {
        "execution": {
          "iopub.status.busy": "2021-07-13T19:45:10.137729Z",
          "iopub.execute_input": "2021-07-13T19:45:10.138288Z",
          "iopub.status.idle": "2021-07-13T19:45:10.160518Z",
          "shell.execute_reply.started": "2021-07-13T19:45:10.138252Z",
          "shell.execute_reply": "2021-07-13T19:45:10.159529Z"
        },
        "trusted": true,
        "id": "RoeqDqbQEd2G"
      },
      "execution_count": null,
      "outputs": []
    },
    {
      "cell_type": "code",
      "source": [
        "data_melted = pd.melt(df_dummy, id_vars = \"output\", var_name = \"features\", value_name = \"value\")\n",
        "data_melted.head(20)"
      ],
      "metadata": {
        "execution": {
          "iopub.status.busy": "2021-07-13T19:45:10.161763Z",
          "iopub.execute_input": "2021-07-13T19:45:10.162051Z",
          "iopub.status.idle": "2021-07-13T19:45:10.17852Z",
          "shell.execute_reply.started": "2021-07-13T19:45:10.162023Z",
          "shell.execute_reply": "2021-07-13T19:45:10.177781Z"
        },
        "trusted": true,
        "id": "3ejW1xzAEd2G"
      },
      "execution_count": null,
      "outputs": []
    },
    {
      "cell_type": "code",
      "source": [
        "# box plot\n",
        "plt.figure()\n",
        "sns.boxplot(x = \"features\", y = \"value\", hue = \"output\", data= data_melted)\n",
        "plt.show()"
      ],
      "metadata": {
        "execution": {
          "iopub.status.busy": "2021-07-13T19:45:10.179634Z",
          "iopub.execute_input": "2021-07-13T19:45:10.180127Z",
          "iopub.status.idle": "2021-07-13T19:45:10.525333Z",
          "shell.execute_reply.started": "2021-07-13T19:45:10.180094Z",
          "shell.execute_reply": "2021-07-13T19:45:10.524286Z"
        },
        "trusted": true,
        "id": "lGKyUN34Ed2G"
      },
      "execution_count": null,
      "outputs": []
    },
    {
      "cell_type": "markdown",
      "source": [
        "<a id=\"10\"></a>\n",
        "## Swarm Plot Analysis"
      ],
      "metadata": {
        "id": "NzqCDYmEEd2G"
      }
    },
    {
      "cell_type": "code",
      "source": [
        "# swarm plot\n",
        "plt.figure()\n",
        "sns.swarmplot(x = \"features\", y = \"value\", hue = \"output\", data= data_melted)\n",
        "plt.show()"
      ],
      "metadata": {
        "execution": {
          "iopub.status.busy": "2021-07-13T19:45:10.526712Z",
          "iopub.execute_input": "2021-07-13T19:45:10.527068Z",
          "iopub.status.idle": "2021-07-13T19:45:12.604158Z",
          "shell.execute_reply.started": "2021-07-13T19:45:10.527033Z",
          "shell.execute_reply": "2021-07-13T19:45:12.601037Z"
        },
        "trusted": true,
        "id": "ehWBhcs9Ed2H"
      },
      "execution_count": null,
      "outputs": []
    },
    {
      "cell_type": "markdown",
      "source": [
        "<a id=\"11\"></a>\n",
        "## Cat Plot Analysis"
      ],
      "metadata": {
        "id": "TFcTaetpEd2H"
      }
    },
    {
      "cell_type": "code",
      "source": [
        "sns.catplot(x = \"exng\", y = \"age\", hue = \"output\", col = \"sex\", kind = \"swarm\", data = df)\n",
        "plt.show()"
      ],
      "metadata": {
        "execution": {
          "iopub.status.busy": "2021-07-13T19:45:12.607455Z",
          "iopub.execute_input": "2021-07-13T19:45:12.607779Z",
          "iopub.status.idle": "2021-07-13T19:45:13.335522Z",
          "shell.execute_reply.started": "2021-07-13T19:45:12.607746Z",
          "shell.execute_reply": "2021-07-13T19:45:13.334357Z"
        },
        "trusted": true,
        "id": "ZIaYpbQ1Ed2H"
      },
      "execution_count": null,
      "outputs": []
    },
    {
      "cell_type": "markdown",
      "source": [
        "<a id=\"12\"></a>\n",
        "## Correlation Analysis"
      ],
      "metadata": {
        "id": "M8YwZHIlEd2H"
      }
    },
    {
      "cell_type": "code",
      "source": [
        "plt.figure(figsize = (14,10))\n",
        "sns.heatmap(df.corr(), annot = True, fmt = \".1f\", linewidths = .7)\n",
        "plt.show()"
      ],
      "metadata": {
        "execution": {
          "iopub.status.busy": "2021-07-13T19:45:13.336817Z",
          "iopub.execute_input": "2021-07-13T19:45:13.337136Z",
          "iopub.status.idle": "2021-07-13T19:45:14.426875Z",
          "shell.execute_reply.started": "2021-07-13T19:45:13.337105Z",
          "shell.execute_reply": "2021-07-13T19:45:14.42585Z"
        },
        "trusted": true,
        "id": "SDotbsS2Ed2H"
      },
      "execution_count": null,
      "outputs": []
    },
    {
      "cell_type": "markdown",
      "source": [
        "<a id=\"13\"></a>\n",
        "## Outlier Detection\n",
        "* Outliers can disrupt ML process.\n",
        "* ![Box-Plot-Diagram-to-identify-Outliers-figure-1.png](attachment:a340c3a4-a084-445c-99b0-ec2589d81551.png)"
      ],
      "metadata": {
        "id": "TOstzKojEd2I"
      }
    },
    {
      "cell_type": "code",
      "source": [
        "numeric_list = [\"age\", \"trtbps\",\"chol\",\"thalachh\",\"oldpeak\"]\n",
        "df_numeric = df.loc[:, numeric_list]\n",
        "df_numeric.head()"
      ],
      "metadata": {
        "execution": {
          "iopub.status.busy": "2021-07-13T19:45:14.428345Z",
          "iopub.execute_input": "2021-07-13T19:45:14.42896Z",
          "iopub.status.idle": "2021-07-13T19:45:14.443811Z",
          "shell.execute_reply.started": "2021-07-13T19:45:14.428911Z",
          "shell.execute_reply": "2021-07-13T19:45:14.442872Z"
        },
        "trusted": true,
        "id": "KYSsJ5f0Ed2M"
      },
      "execution_count": null,
      "outputs": []
    },
    {
      "cell_type": "code",
      "source": [
        "df.describe()"
      ],
      "metadata": {
        "execution": {
          "iopub.status.busy": "2021-07-13T19:45:14.445123Z",
          "iopub.execute_input": "2021-07-13T19:45:14.445406Z",
          "iopub.status.idle": "2021-07-13T19:45:14.505013Z",
          "shell.execute_reply.started": "2021-07-13T19:45:14.445378Z",
          "shell.execute_reply": "2021-07-13T19:45:14.503735Z"
        },
        "trusted": true,
        "id": "QyVLBN4pEd2M"
      },
      "execution_count": null,
      "outputs": []
    },
    {
      "cell_type": "code",
      "source": [
        "# outlier detection\n",
        "for i in numeric_list:\n",
        "\n",
        "    # IQR\n",
        "    Q1 = np.percentile(df.loc[:, i],25)\n",
        "    Q3 = np.percentile(df.loc[:, i],75)\n",
        "\n",
        "    IQR = Q3 - Q1\n",
        "\n",
        "    print(\"Old shape: \", df.loc[:, i].shape)\n",
        "\n",
        "    # upper bound\n",
        "    upper = np.where(df.loc[:, i] >= (Q3 +2.5*IQR))\n",
        "\n",
        "    # lower bound\n",
        "    lower = np.where(df.loc[:, i] <= (Q1 - 2.5*IQR))\n",
        "\n",
        "    print(\"{} -- {}\".format(upper, lower))\n",
        "\n",
        "    try:\n",
        "        df.drop(upper[0], inplace = True)\n",
        "    except: print(\"KeyError: {} not found in axis\".format(upper[0]))\n",
        "\n",
        "    try:\n",
        "        df.drop(lower[0], inplace = True)\n",
        "    except:  print(\"KeyError: {} not found in axis\".format(lower[0]))\n",
        "\n",
        "    print(\"New shape: \", df.shape)"
      ],
      "metadata": {
        "execution": {
          "iopub.status.busy": "2021-07-13T19:45:14.506368Z",
          "iopub.execute_input": "2021-07-13T19:45:14.506674Z",
          "iopub.status.idle": "2021-07-13T19:45:14.53392Z",
          "shell.execute_reply.started": "2021-07-13T19:45:14.506645Z",
          "shell.execute_reply": "2021-07-13T19:45:14.532543Z"
        },
        "trusted": true,
        "id": "zpKccuJOEd2N"
      },
      "execution_count": null,
      "outputs": []
    },
    {
      "cell_type": "markdown",
      "source": [
        "<a id=\"14\"></a>\n",
        "## Modelling"
      ],
      "metadata": {
        "id": "L_FQIJ_rEd2N"
      }
    },
    {
      "cell_type": "code",
      "source": [
        "df1 = df.copy()"
      ],
      "metadata": {
        "execution": {
          "iopub.status.busy": "2021-07-13T19:55:33.663468Z",
          "iopub.execute_input": "2021-07-13T19:55:33.663905Z",
          "iopub.status.idle": "2021-07-13T19:55:33.668683Z",
          "shell.execute_reply.started": "2021-07-13T19:55:33.663851Z",
          "shell.execute_reply": "2021-07-13T19:55:33.667951Z"
        },
        "trusted": true,
        "id": "SaTITipOEd2N"
      },
      "execution_count": null,
      "outputs": []
    },
    {
      "cell_type": "markdown",
      "source": [
        "### Encoding Categorical Columns\n",
        "![TW5m0aJ.png](attachment:08646436-dd1d-4179-bd0d-9257c5ea4b71.png)"
      ],
      "metadata": {
        "id": "wst4xxupEd2N"
      }
    },
    {
      "cell_type": "code",
      "source": [
        "df1 = pd.get_dummies(df1, columns = categorical_list[:-1], drop_first = True)\n",
        "df1.head()"
      ],
      "metadata": {
        "execution": {
          "iopub.status.busy": "2021-07-13T19:58:42.19098Z",
          "iopub.execute_input": "2021-07-13T19:58:42.191402Z",
          "iopub.status.idle": "2021-07-13T19:58:42.23002Z",
          "shell.execute_reply.started": "2021-07-13T19:58:42.19137Z",
          "shell.execute_reply": "2021-07-13T19:58:42.228844Z"
        },
        "trusted": true,
        "id": "XhB2OPX4Ed2O"
      },
      "execution_count": null,
      "outputs": []
    },
    {
      "cell_type": "code",
      "source": [
        "#\n",
        "X = df1.drop([\"output\"], axis = 1)\n",
        "y = df1[[\"output\"]]"
      ],
      "metadata": {
        "execution": {
          "iopub.status.busy": "2021-07-13T20:00:06.587482Z",
          "iopub.execute_input": "2021-07-13T20:00:06.589661Z",
          "iopub.status.idle": "2021-07-13T20:00:06.595799Z",
          "shell.execute_reply.started": "2021-07-13T20:00:06.589617Z",
          "shell.execute_reply": "2021-07-13T20:00:06.595058Z"
        },
        "trusted": true,
        "id": "v5McAsDrEd2O"
      },
      "execution_count": null,
      "outputs": []
    },
    {
      "cell_type": "markdown",
      "source": [
        "### Scaling"
      ],
      "metadata": {
        "id": "FMNW7xt-Ed2O"
      }
    },
    {
      "cell_type": "code",
      "source": [
        "scaler = StandardScaler()\n",
        "scaler"
      ],
      "metadata": {
        "execution": {
          "iopub.status.busy": "2021-07-13T20:04:59.477786Z",
          "iopub.execute_input": "2021-07-13T20:04:59.478197Z",
          "iopub.status.idle": "2021-07-13T20:04:59.485201Z",
          "shell.execute_reply.started": "2021-07-13T20:04:59.478161Z",
          "shell.execute_reply": "2021-07-13T20:04:59.483727Z"
        },
        "trusted": true,
        "id": "53Em7wJiEd2O"
      },
      "execution_count": null,
      "outputs": []
    },
    {
      "cell_type": "code",
      "source": [
        "X[numeric_list[:-1]] = scaler.fit_transform(X[numeric_list[:-1]])\n",
        "X.head()"
      ],
      "metadata": {
        "execution": {
          "iopub.status.busy": "2021-07-13T20:05:37.107709Z",
          "iopub.execute_input": "2021-07-13T20:05:37.108083Z",
          "iopub.status.idle": "2021-07-13T20:05:37.143336Z",
          "shell.execute_reply.started": "2021-07-13T20:05:37.108053Z",
          "shell.execute_reply": "2021-07-13T20:05:37.142336Z"
        },
        "trusted": true,
        "id": "jEJzdcDbEd2P"
      },
      "execution_count": null,
      "outputs": []
    },
    {
      "cell_type": "markdown",
      "source": [
        "### Train/Test Split"
      ],
      "metadata": {
        "id": "iC-C2USLEd2P"
      }
    },
    {
      "cell_type": "code",
      "source": [
        "X_train, X_test, y_train, y_test = train_test_split(X, y, test_size = 0.1, random_state = 3)\n",
        "print(\"X_train: {}\".format(X_train.shape))\n",
        "print(\"X_test: {}\".format(X_test.shape))\n",
        "print(\"y_train: {}\".format(y_train.shape))\n",
        "print(\"y_test: {}\".format(y_test.shape))"
      ],
      "metadata": {
        "execution": {
          "iopub.status.busy": "2021-07-13T20:10:06.943929Z",
          "iopub.execute_input": "2021-07-13T20:10:06.944292Z",
          "iopub.status.idle": "2021-07-13T20:10:06.955413Z",
          "shell.execute_reply.started": "2021-07-13T20:10:06.944263Z",
          "shell.execute_reply": "2021-07-13T20:10:06.954187Z"
        },
        "trusted": true,
        "id": "476pOeZLEd2P"
      },
      "execution_count": null,
      "outputs": []
    },
    {
      "cell_type": "markdown",
      "source": [
        "### Logistic Regression"
      ],
      "metadata": {
        "id": "VtvIKNxjEd2P"
      }
    },
    {
      "cell_type": "code",
      "source": [
        "logreg = LogisticRegression()\n",
        "logreg"
      ],
      "metadata": {
        "execution": {
          "iopub.status.busy": "2021-07-13T20:14:52.390319Z",
          "iopub.execute_input": "2021-07-13T20:14:52.390663Z",
          "iopub.status.idle": "2021-07-13T20:14:52.398393Z",
          "shell.execute_reply.started": "2021-07-13T20:14:52.390634Z",
          "shell.execute_reply": "2021-07-13T20:14:52.397484Z"
        },
        "trusted": true,
        "id": "mbViLQo7Ed2P"
      },
      "execution_count": null,
      "outputs": []
    },
    {
      "cell_type": "code",
      "source": [
        "# fitting = training\n",
        "logreg.fit(X_train, y_train)"
      ],
      "metadata": {
        "execution": {
          "iopub.status.busy": "2021-07-13T20:15:39.171563Z",
          "iopub.execute_input": "2021-07-13T20:15:39.171992Z",
          "iopub.status.idle": "2021-07-13T20:15:39.195451Z",
          "shell.execute_reply.started": "2021-07-13T20:15:39.171949Z",
          "shell.execute_reply": "2021-07-13T20:15:39.194408Z"
        },
        "trusted": true,
        "id": "m4JxjR_yEd2Q"
      },
      "execution_count": null,
      "outputs": []
    },
    {
      "cell_type": "code",
      "source": [
        "# calculate probabilities\n",
        "y_pred_prob = logreg.predict_proba(X_test)\n",
        "y_pred_prob"
      ],
      "metadata": {
        "execution": {
          "iopub.status.busy": "2021-07-13T20:17:08.870404Z",
          "iopub.execute_input": "2021-07-13T20:17:08.870768Z",
          "iopub.status.idle": "2021-07-13T20:17:08.880605Z",
          "shell.execute_reply.started": "2021-07-13T20:17:08.870737Z",
          "shell.execute_reply": "2021-07-13T20:17:08.879727Z"
        },
        "trusted": true,
        "id": "ImEOkZcxEd2Q"
      },
      "execution_count": null,
      "outputs": []
    },
    {
      "cell_type": "code",
      "source": [
        "y_pred = np.argmax(y_pred_prob, axis = 1)\n",
        "y_pred"
      ],
      "metadata": {
        "execution": {
          "iopub.status.busy": "2021-07-13T20:19:39.08093Z",
          "iopub.execute_input": "2021-07-13T20:19:39.081314Z",
          "iopub.status.idle": "2021-07-13T20:19:39.087196Z",
          "shell.execute_reply.started": "2021-07-13T20:19:39.081283Z",
          "shell.execute_reply": "2021-07-13T20:19:39.086363Z"
        },
        "trusted": true,
        "id": "3phhnyKoEd2Q"
      },
      "execution_count": null,
      "outputs": []
    },
    {
      "cell_type": "code",
      "source": [
        "#dummy_ = pd.DataFrame(y_pred_prob)\n",
        "#dummy_[\"y_pred\"] = y_pred\n",
        "#dummy_.head()"
      ],
      "metadata": {
        "execution": {
          "iopub.status.busy": "2021-07-13T20:20:58.595733Z",
          "iopub.execute_input": "2021-07-13T20:20:58.596246Z",
          "iopub.status.idle": "2021-07-13T20:20:58.599854Z",
          "shell.execute_reply.started": "2021-07-13T20:20:58.596214Z",
          "shell.execute_reply": "2021-07-13T20:20:58.59885Z"
        },
        "trusted": true,
        "id": "BvpO8-m7Ed2Q"
      },
      "execution_count": null,
      "outputs": []
    },
    {
      "cell_type": "code",
      "source": [
        "print(\"Test accuracy: {}\".format(accuracy_score(y_pred, y_test)))"
      ],
      "metadata": {
        "execution": {
          "iopub.status.busy": "2021-07-13T20:21:58.558123Z",
          "iopub.execute_input": "2021-07-13T20:21:58.558479Z",
          "iopub.status.idle": "2021-07-13T20:21:58.564696Z",
          "shell.execute_reply.started": "2021-07-13T20:21:58.55845Z",
          "shell.execute_reply": "2021-07-13T20:21:58.563503Z"
        },
        "trusted": true,
        "id": "iZ53ugV9Ed2R"
      },
      "execution_count": null,
      "outputs": []
    },
    {
      "cell_type": "markdown",
      "source": [
        "##### ROC Curve\n",
        "![ROC in one picture 2.png](attachment:2726f010-06bb-4bf8-9f1e-9674727f28ec.png)"
      ],
      "metadata": {
        "id": "LFrXk_wjEd2R"
      }
    },
    {
      "cell_type": "code",
      "source": [
        "# ROC Curve\n",
        "fpr, tpr, thresholds = roc_curve(y_test, y_pred_prob[:,1])"
      ],
      "metadata": {
        "execution": {
          "iopub.status.busy": "2021-07-13T20:24:18.940748Z",
          "iopub.execute_input": "2021-07-13T20:24:18.941286Z",
          "iopub.status.idle": "2021-07-13T20:24:18.949923Z",
          "shell.execute_reply.started": "2021-07-13T20:24:18.941248Z",
          "shell.execute_reply": "2021-07-13T20:24:18.94862Z"
        },
        "trusted": true,
        "id": "7zT_wv9zEd2R"
      },
      "execution_count": null,
      "outputs": []
    },
    {
      "cell_type": "code",
      "source": [
        "# plot curve\n",
        "plt.plot([0,1],[0,1],\"k--\")\n",
        "plt.plot(fpr, tpr, label = \"Logistic Regression\")\n",
        "plt.xlabel(\"False Positive Rate\")\n",
        "plt.ylabel(\"True Positive Rate\")\n",
        "plt.title(\"Logistic Regression ROC Curve\")\n",
        "plt.show()"
      ],
      "metadata": {
        "execution": {
          "iopub.status.busy": "2021-07-13T20:26:09.819662Z",
          "iopub.execute_input": "2021-07-13T20:26:09.820036Z",
          "iopub.status.idle": "2021-07-13T20:26:09.972254Z",
          "shell.execute_reply.started": "2021-07-13T20:26:09.820006Z",
          "shell.execute_reply": "2021-07-13T20:26:09.971084Z"
        },
        "trusted": true,
        "id": "2guZAzYgEd2R"
      },
      "execution_count": null,
      "outputs": []
    },
    {
      "cell_type": "markdown",
      "source": [
        "### Logistic Regression Hyperparameter Tuning"
      ],
      "metadata": {
        "id": "k21lfZoAEd2S"
      }
    },
    {
      "cell_type": "code",
      "source": [
        "lr = LogisticRegression()\n",
        "lr"
      ],
      "metadata": {
        "execution": {
          "iopub.status.busy": "2021-07-13T20:34:53.407678Z",
          "iopub.execute_input": "2021-07-13T20:34:53.408092Z",
          "iopub.status.idle": "2021-07-13T20:34:53.41547Z",
          "shell.execute_reply.started": "2021-07-13T20:34:53.408053Z",
          "shell.execute_reply": "2021-07-13T20:34:53.414234Z"
        },
        "trusted": true,
        "id": "X78zwP_PEd2S"
      },
      "execution_count": null,
      "outputs": []
    },
    {
      "cell_type": "code",
      "source": [
        "penalty = [\"l1\", \"l2\"]\n",
        "\n",
        "parameters = {\"penalty\":penalty}"
      ],
      "metadata": {
        "execution": {
          "iopub.status.busy": "2021-07-13T20:35:59.273408Z",
          "iopub.execute_input": "2021-07-13T20:35:59.273833Z",
          "iopub.status.idle": "2021-07-13T20:35:59.278753Z",
          "shell.execute_reply.started": "2021-07-13T20:35:59.2738Z",
          "shell.execute_reply": "2021-07-13T20:35:59.277572Z"
        },
        "trusted": true,
        "id": "mCQhGNChEd2S"
      },
      "execution_count": null,
      "outputs": []
    },
    {
      "cell_type": "code",
      "source": [
        "lr_searcher = GridSearchCV(lr, parameters)"
      ],
      "metadata": {
        "execution": {
          "iopub.status.busy": "2021-07-13T20:35:59.855308Z",
          "iopub.execute_input": "2021-07-13T20:35:59.85567Z",
          "iopub.status.idle": "2021-07-13T20:35:59.861087Z",
          "shell.execute_reply.started": "2021-07-13T20:35:59.855641Z",
          "shell.execute_reply": "2021-07-13T20:35:59.86003Z"
        },
        "trusted": true,
        "id": "dAv1ElTOEd2S"
      },
      "execution_count": null,
      "outputs": []
    },
    {
      "cell_type": "code",
      "source": [
        "lr_searcher.fit(X_train, y_train)"
      ],
      "metadata": {
        "execution": {
          "iopub.status.busy": "2021-07-13T20:36:11.665158Z",
          "iopub.execute_input": "2021-07-13T20:36:11.66552Z",
          "iopub.status.idle": "2021-07-13T20:36:11.794Z",
          "shell.execute_reply.started": "2021-07-13T20:36:11.665489Z",
          "shell.execute_reply": "2021-07-13T20:36:11.793003Z"
        },
        "trusted": true,
        "id": "aVVbcfulEd2S"
      },
      "execution_count": null,
      "outputs": []
    },
    {
      "cell_type": "code",
      "source": [
        "print(\"Best parameters: \",lr_searcher.best_params_)"
      ],
      "metadata": {
        "execution": {
          "iopub.status.busy": "2021-07-13T20:36:48.793516Z",
          "iopub.execute_input": "2021-07-13T20:36:48.793932Z",
          "iopub.status.idle": "2021-07-13T20:36:48.798785Z",
          "shell.execute_reply.started": "2021-07-13T20:36:48.793881Z",
          "shell.execute_reply": "2021-07-13T20:36:48.797804Z"
        },
        "trusted": true,
        "id": "_f1qRFdzEd2T"
      },
      "execution_count": null,
      "outputs": []
    },
    {
      "cell_type": "code",
      "source": [
        "y_pred = lr_searcher.predict(X_test)"
      ],
      "metadata": {
        "execution": {
          "iopub.status.busy": "2021-07-13T20:37:15.985163Z",
          "iopub.execute_input": "2021-07-13T20:37:15.985554Z",
          "iopub.status.idle": "2021-07-13T20:37:15.993061Z",
          "shell.execute_reply.started": "2021-07-13T20:37:15.985525Z",
          "shell.execute_reply": "2021-07-13T20:37:15.991878Z"
        },
        "trusted": true,
        "id": "9CZfzVWvEd2T"
      },
      "execution_count": null,
      "outputs": []
    },
    {
      "cell_type": "code",
      "source": [
        "print(\"Test accuracy: {}\".format(accuracy_score(y_pred, y_test)))"
      ],
      "metadata": {
        "execution": {
          "iopub.status.busy": "2021-07-13T20:37:30.212988Z",
          "iopub.execute_input": "2021-07-13T20:37:30.213368Z",
          "iopub.status.idle": "2021-07-13T20:37:30.21972Z",
          "shell.execute_reply.started": "2021-07-13T20:37:30.213334Z",
          "shell.execute_reply": "2021-07-13T20:37:30.218515Z"
        },
        "trusted": true,
        "id": "bHdzl7mZEd2T"
      },
      "execution_count": null,
      "outputs": []
    },
    {
      "cell_type": "markdown",
      "source": [
        "<a id=\"15\"></a>\n",
        "## Conclusion\n",
        "* Lets make a practise now!\n",
        "* You can make different analyzes to reinforce what you have learned."
      ],
      "metadata": {
        "id": "Icd50tFyEd2T"
      }
    }
  ]
}